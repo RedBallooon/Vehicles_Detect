{
 "cells": [
  {
   "cell_type": "code",
   "execution_count": 1,
   "metadata": {},
   "outputs": [
    {
     "name": "stdout",
     "output_type": "stream",
     "text": [
      "Note: you may need to restart the kernel to use updated packages.\n"
     ]
    },
    {
     "name": "stderr",
     "output_type": "stream",
     "text": [
      "ERROR: Could not find a version that satisfies the requirement opencv (from versions: none)\n",
      "ERROR: No matching distribution found for opencv\n"
     ]
    }
   ],
   "source": [
    "pip install opencv"
   ]
  },
  {
   "cell_type": "code",
   "execution_count": 2,
   "metadata": {},
   "outputs": [],
   "source": [
    "import os \n",
    "import numpy as np  \n",
    "import cv2 as cv \n",
    "import matplotlib.pyplot as plt\n",
    "import pickle\n",
    "from sklearn.model_selection import train_test_split\n",
    "import random as rd\n",
    "from sklearn.svm import SVC"
   ]
  },
  {
   "cell_type": "code",
   "execution_count": 3,
   "metadata": {},
   "outputs": [],
   "source": [
    "def apply_noise_reduction(image):\n",
    "    # Choose your preferred technique(s):\n",
    "    # image = cv2.normalize(image, None, alpha=0, beta=1, norm_type=cv2.NORM_MINMAX)  # Normalization\n",
    "    # image = cv2.equalizeHist(image)  # Histogram Equalization\n",
    "    image = cv.medianBlur(image, 5)  # Median Filtering\n",
    "    # image = cv2.bilateralFiltering(image, 9, 75, 75)  # Bilateral Filtering\n",
    "    # image = cv2.fastNlMeansDenoising(image, None, 10, 7, 21)  # Non-local Means Filtering\n",
    "    return image"
   ]
  },
  {
   "cell_type": "code",
   "execution_count": 4,
   "metadata": {},
   "outputs": [],
   "source": [
    "dir = r\"E:\\Test_car_detect\\Dataset\"\n",
    "\n",
    "categories = [\"Bus\", \"Car\", \"Motorcycle\", \"Truck\"]\n",
    "data = []\n",
    "\n",
    "for category in categories:\n",
    "    path = os.path.join(dir, category)\n",
    "    label = categories.index(category)\n",
    "\n",
    "    for img in os.listdir(path):\n",
    "        imgpath = os.path.join(path, img)\n",
    "        try:\n",
    "            emotion_img = cv.imread(imgpath, 0)  # Read as grayscale (recommended)\n",
    "            if emotion_img is not None:  # Check for successful read\n",
    "                emotion_img = apply_noise_reduction(emotion_img)  # Apply noise reduction\n",
    "                emotion_img = cv.resize(emotion_img, (50, 50))\n",
    "                image = np.array(emotion_img).flatten()\n",
    "                data.append([image, label])\n",
    "        except Exception as e:\n",
    "            print(f\"Error processing image {imgpath}: {e}\")  # More informative error handling\n"
   ]
  },
  {
   "cell_type": "code",
   "execution_count": 5,
   "metadata": {},
   "outputs": [
    {
     "name": "stdout",
     "output_type": "stream",
     "text": [
      "Requirement already satisfied: opencv-python in c:\\users\\phoky\\anaconda3\\lib\\site-packages (4.9.0.80)\n",
      "Requirement already satisfied: numpy>=1.21.2 in c:\\users\\phoky\\anaconda3\\lib\\site-packages (from opencv-python) (1.26.4)\n",
      "Note: you may need to restart the kernel to use updated packages.\n"
     ]
    }
   ],
   "source": [
    "pip install --upgrade opencv-python"
   ]
  },
  {
   "cell_type": "code",
   "execution_count": 15,
   "metadata": {},
   "outputs": [
    {
     "name": "stdout",
     "output_type": "stream",
     "text": [
      "Accuracy:  0.35\n",
      "Prediction is:  Bus\n"
     ]
    },
    {
     "data": {
      "text/plain": [
       "<function matplotlib.pyplot.imshow(X: 'ArrayLike | PIL.Image.Image', cmap: 'str | Colormap | None' = None, norm: 'str | Normalize | None' = None, *, aspect: \"Literal['equal', 'auto'] | float | None\" = None, interpolation: 'str | None' = None, alpha: 'float | ArrayLike | None' = None, vmin: 'float | None' = None, vmax: 'float | None' = None, origin: \"Literal['upper', 'lower'] | None\" = None, extent: 'tuple[float, float, float, float] | None' = None, interpolation_stage: \"Literal['data', 'rgba'] | None\" = None, filternorm: 'bool' = True, filterrad: 'float' = 4.0, resample: 'bool | None' = None, url: 'str | None' = None, data=None, **kwargs) -> 'AxesImage'>"
      ]
     },
     "execution_count": 15,
     "metadata": {},
     "output_type": "execute_result"
    },
    {
     "data": {
      "image/png": "[encoded data removed]",
      "text/plain": [
       "<Figure size 640x480 with 1 Axes>"
      ]
     },
     "metadata": {},
     "output_type": "display_data"
    }
   ],
   "source": [
    "rd.shuffle(data)\n",
    "features = []\n",
    "labels = [] \n",
    "for feature, label in data:\n",
    "    features.append(feature)\n",
    "    labels.append(label)\n",
    "    \n",
    "\n",
    "xtrain, xtest, ytrain, ytest = train_test_split(features,labels, test_size= 0.05)\n",
    "\n",
    "model = SVC(C = 1, gamma='auto', kernel='poly')\n",
    "\n",
    "model.fit(xtrain, ytrain)\n",
    "\n",
    "prediction = model.predict(xtest)\n",
    "accuracy = model.score(xtest, ytest)\n",
    "\n",
    "print(\"Accuracy: \", accuracy)\n",
    "print(\"Prediction is: \", categories[prediction[0]])\n",
    "emotion = xtest[0].reshape(50,50)\n",
    "plt.imshow(emotion,cmap='gray')\n",
    "plt.imshow\n"
   ]
  },
  {
   "cell_type": "code",
   "execution_count": 7,
   "metadata": {},
   "outputs": [],
   "source": [
    "models_dir = r\"E:\\Test_car_detect\\models\"\n",
    "pickle_path = os.path.join(models_dir, \"svm.sav\")\n",
    "with open(pickle_path, 'wb') as file:\n",
    "    pickle.dump(model, file)"
   ]
  }
 ],
 "metadata": {
  "kernelspec": {
   "display_name": "Python 3",
   "language": "python",
   "name": "python3"
  },
  "language_info": {
   "codemirror_mode": {
    "name": "ipython",
    "version": 3
   },
   "file_extension": ".py",
   "mimetype": "text/x-python",
   "name": "python",
   "nbconvert_exporter": "python",
   "pygments_lexer": "ipython3",
   "version": "3.11.7"
  }
 },
 "nbformat": 4,
 "nbformat_minor": 2
}
